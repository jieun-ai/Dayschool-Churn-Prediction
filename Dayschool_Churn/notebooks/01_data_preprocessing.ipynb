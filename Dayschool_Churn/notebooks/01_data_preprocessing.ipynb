{
 "cells": [
  {
   "cell_type": "markdown",
   "metadata": {},
   "source": [
    "## 1. 환경 설정"
   ]
  },
  {
   "cell_type": "code",
   "execution_count": 2,
   "metadata": {},
   "outputs": [],
   "source": [
    "import pandas as pd\n",
    "import urllib.parse\n",
    "from sqlalchemy import create_engine, text\n",
    "from datetime import datetime\n",
    "import os\n",
    "from dotenv import load_dotenv\n",
    "import warnings\n",
    "warnings.filterwarnings(\"ignore\")\n",
    "\n",
    "# 출력 설정\n",
    "pd.set_option('display.max_rows', 100)\n",
    "pd.set_option('display.max_columns', 100)\n",
    "\n",
    "# MySQL 연결 설정\n",
    "# 환경 변수 로드\n",
    "\n",
    "\n",
    "# MySQL 연결 설정\n",
    "\n",
    "\n",
    "# 비밀번호 URL 인코딩\n",
    "\n",
    "# SQLAlchemy 엔진 생성\n"
   ]
  },
  {
   "cell_type": "markdown",
   "metadata": {},
   "source": [
    "## 2. 데이터 추출 함수"
   ]
  },
  {
   "cell_type": "code",
   "execution_count": 3,
   "metadata": {},
   "outputs": [],
   "source": [
    "def fetch_data(query, engine):\n",
    "    \"\"\"MySQL에서 데이터를 추출하여 DataFrame으로 반환.\"\"\"\n",
    "    with engine.connect() as conn:\n",
    "        return pd.read_sql(text(query), conn)"
   ]
  },
  {
   "cell_type": "markdown",
   "metadata": {},
   "source": [
    "## 3. 사용자(User) 데이터 전처리"
   ]
  },
  {
   "cell_type": "code",
   "execution_count": 4,
   "metadata": {},
   "outputs": [],
   "source": [
    "# 사용자 데이터 추출\n",
    "user_query = \"\"\"\n",
    "SELECT id, name, mail, is_admin, c_time, m_time, entered_competition_cnt, \n",
    "       code_share_cnt, talk_board_cnt, country_code, rank_cpt, new_rank_cpt, \n",
    "       pre_ranking_cpt, best_rank_cpt, best_rank_cpt_totaluser, new_rank_cs, \n",
    "       new_rank_tb, is_bronze, bronze_update, bronze_rank_cs, bronze_rank_tb, \n",
    "       best_rank_tb, one_percent_ranker, best_rank_cs_totaluser, \n",
    "       best_rank_tb_totaluser, avatar_tier \n",
    "FROM user\n",
    "\"\"\"\n",
    "user = fetch_data(user_query, engine)\n",
    "user = user.rename(columns={'id': 'user_id'})\n",
    "user.to_csv('../data/processed/user.csv', index=False)\n",
    "\n",
    "# 데이콘 멤버 필터링\n",
    "def get_dacon_user_ids(user_df):\n",
    "    \"\"\"데이콘 내부 멤버(user_id)를 필터링.\"\"\"\n",
    "    admin_users = set(user_df[user_df['is_admin'] == 1]['user_id'])\n",
    "    dacon_email_users = set(\n",
    "        user_df[user_df['mail'].str.contains(r'@dacon', case=False, regex=True)]['user_id']\n",
    "    )\n",
    "    combined = admin_users.union(dacon_email_users, {'400025', '465065'})\n",
    "    return combined - {457780}\n",
    "\n",
    "dacon_user_id = get_dacon_user_ids(user)\n",
    "dacon_user_id = pd.DataFrame(list(dacon_user_id), columns=['user_id'])\n",
    "dacon_user_id.to_csv('../data/processed/dacon_user_id.csv', index=False)"
   ]
  },
  {
   "cell_type": "markdown",
   "metadata": {},
   "source": [
    "## 4.구독(subscriptions) 데이터 전처리"
   ]
  },
  {
   "cell_type": "code",
   "execution_count": 5,
   "metadata": {},
   "outputs": [],
   "source": [
    "# 구독 데이터 추출\n",
    "subs_query = \"SELECT * FROM subscriptions\"\n",
    "subscriptions = fetch_data(subs_query, engine)\n",
    "\n",
    "# 불필요한 컬럼 제거\n",
    "subscriptions = subscriptions.drop(['is_deleted', 'IS_PARTIAL_CANCELED', 'period', 'product_price', 'expiration_date', \n",
    "                                    'subs_id', 'is_oneoff','next_plan_type','next_billing_date','billing_id',\n",
    "                                    'created_at','updated_at', 'auto_billing', 'product_code', 'auto_billing_status'], axis = 1)\n",
    "\n",
    "# 구독 상태 및 유형 정리\n",
    "subscriptions['status'] = subscriptions['status'].replace({'CANCELED': '환불'}).apply(\n",
    "    lambda x: '사용' if x != '환불' else x\n",
    ")\n",
    "subscriptions['plan_type'] = subscriptions['plan_type'].replace({\n",
    "    'MONTHLY': 'M', 'YEARLY': 'Y', 'PROMOTION': 'P'\n",
    "})\n",
    "subscriptions['product_name'] = subscriptions['product_name'].apply(\n",
    "    lambda x: x.replace('데이스쿨 프로(Pro) ', '').strip()\n",
    ")\n",
    "\n",
    "# 필터링: 사용 중인 구독, 데이콘 멤버 제외\n",
    "subscriptions = subscriptions[subscriptions['status'] == '사용']\n",
    "subscriptions = subscriptions[~subscriptions['user_id'].isin(dacon_user_id['user_id'].values)]\n",
    "\n",
    "# 특정 사용자 구독 유형 수정\n",
    "subscriptions.loc[subscriptions['user_id'] == 471893, 'plan_type'] = \"Y\" "
   ]
  },
  {
   "cell_type": "code",
   "execution_count": 6,
   "metadata": {},
   "outputs": [],
   "source": [
    "subscriptions = subscriptions.drop(['product_name', 'status'], axis = 1)\n",
    "\n",
    "# 날짜 변환 및 초기 피처 생성\n",
    "subscriptions['start_date'] = pd.to_datetime(subscriptions['start_date'])\n",
    "subscriptions['end_date'] = pd.to_datetime(subscriptions['end_date'])\n",
    "subscriptions['unsubscribe_date'] = pd.to_datetime(subscriptions['unsubscribe_date'], errors='coerce')\n",
    "\n",
    "subscriptions = subscriptions.sort_values(['user_id', 'start_date'])\n",
    "subscriptions['구독_횟수'] = subscriptions.groupby('user_id').cumcount() + 1\n",
    "subscriptions['구독_일수'] = (subscriptions['end_date'] - subscriptions['start_date']).dt.days\n",
    "subscriptions['해지까지_일수'] = (subscriptions['unsubscribe_date'] - subscriptions['start_date']).dt.days\n",
    "\n",
    "# 구독 상태 추가\n",
    "one_sub = subscriptions.groupby('user_id').filter(lambda x: len(x) == 1)\n",
    "subscriptions['subscription_status'] = subscriptions.apply(\n",
    "    lambda row: '해지' if row['user_id'] in one_sub['user_id'].unique() else None, axis=1\n",
    ")\n",
    "two_over_sub = subscriptions.groupby('user_id').filter(lambda x: len(x) >= 2)\n",
    "two_over_sub = two_over_sub.sort_values(by=['user_id', 'start_date'])\n",
    "\n",
    "def assign_subscription_status(group):\n",
    "    group['subscription_status'] = '해지'\n",
    "    group.loc[(group['start_date'].shift(-1) - group['end_date']).dt.total_seconds() <= 24 * 3600, 'subscription_status'] = '연장'\n",
    "    return group\n",
    "\n",
    "two_over_sub = two_over_sub.groupby('user_id').apply(assign_subscription_status)\n",
    "update_mask = subscriptions['user_id'].isin(two_over_sub['user_id'])\n",
    "subscriptions.loc[update_mask, 'subscription_status'] = two_over_sub['subscription_status'].values\n",
    "\n",
    "# 사용자별 요약 변수\n",
    "user_summary = subscriptions.groupby('user_id').agg(\n",
    "    총_구독_횟수=('구독_횟수', 'max'),\n",
    "    총_구독_일수=('구독_일수', 'sum')\n",
    ").reset_index()\n",
    "subscriptions = subscriptions.merge(user_summary, on='user_id', how='left')\n",
    "\n",
    "# 컬럼 정리\n",
    "subscriptions = subscriptions.rename(columns = {\n",
    "    'is_now': '현재_구독_상태', 'start_date':'구독_시작일', 'end_date':'구독_종료일',\n",
    "    'plan_type':'구독_타입', 'unsubscribe_date':'해지_신청일', 'subscription_status':'구독_상태'})\n",
    "\n",
    "subscriptions = subscriptions[[\n",
    "    'user_id', '현재_구독_상태', '구독_시작일', '구독_종료일', '구독_상태', '구독_타입',\n",
    "    '구독_일수', '총_구독_일수', '구독_횟수', '총_구독_횟수', '해지_신청일', '해지까지_일수'\n",
    "]]\n",
    "\n",
    "# 저장\n",
    "subscriptions.to_csv('../data/processed/subscriptions.csv', index=False)"
   ]
  },
  {
   "cell_type": "markdown",
   "metadata": {},
   "source": [
    "## 5. 트랙 사용자(track_users) 데이터 전처리"
   ]
  },
  {
   "cell_type": "code",
   "execution_count": 7,
   "metadata": {},
   "outputs": [],
   "source": [
    "# 트랙 사용자 데이터 추출\n",
    "track_query = \"SELECT * FROM track_users\"\n",
    "track_users = fetch_data(track_query, engine)\n",
    "\n",
    "# 트랙 난이도 및 기수 매핑\n",
    "track_generation_mapping = {\n",
    "    236269: 1, 236301: 2, 236329: 3, 236362: 4, 236386: 5, 236405: 6, \n",
    "    236267: 1, 236300: 2, 236330: 3, 236363: 4, 236387: 5, 236406: 6,  \n",
    "    236262: 1, 236299: 2, 236331: 3, 236364: 4, 236388: 5, 236407: 6,  \n",
    "    236268: 1, 236302: 2, 236332: 3, 236365: 4, 236389: 5, 236408: 6,  \n",
    "                                     236366: 4, 236390: 5, 236409: 6,  \n",
    "                                                236371: 5, 236410: 6  \n",
    "}\n",
    " \n",
    "track_mapping = {\n",
    "    236269: '파이썬', 236301: '파이썬', 236329: '파이썬', 236362: '파이썬', 236386: '파이썬', 236405: '파이썬',  \n",
    "    236267: '입문', 236300: '입문', 236330: '입문', 236363: '입문', 236387: '입문', 236406: '입문',  \n",
    "    236262: '기초', 236299: '기초', 236331: '기초', 236364: '기초', 236388: '기초', 236407: '기초',  \n",
    "    236268: '심화', 236302: '심화', 236332: '심화', 236365: '심화', 236389: '심화', 236408: '심화',  \n",
    "    236366: '시계열', 236390: '시계열', 236409: '시계열',  # 시계열 트랙\n",
    "    236371: '이미지', 236410: '이미지'   # 이미지 트랙\n",
    "}\n",
    "\n",
    "track_users['기수'] = track_users['track_id'].map(track_generation_mapping)\n",
    "track_users = track_users[track_users['기수'].notna()] # 25년 기수 참여자들은 제거\n",
    "track_users['트랙_난이도'] = track_users['track_id'].map(track_mapping)\n",
    "track_users['progress_rate'] = track_users['progress_rate'].fillna(0)\n",
    "\n",
    "track_users = track_users.drop(['completion_date','badge_date',\n",
    "                                'hackathon_score', 'is_completed','ipynb_uploaded','pdf_uploaded',\n",
    "                                'id', 'play_time', 'total_steps'], axis = 1) \n",
    "\n",
    "# 기수별 스케줄 병합\n",
    "generation_schedule = pd.DataFrame({\n",
    "    '기수': [1.0, 2.0, 3.0, 4.0, 5.0, 6.0],\n",
    "    '오픈_날짜': ['2024-06-03', '2024-07-01', '2024-08-01', '2024-09-02', '2024-10-02', '2024-11-01'],\n",
    "    '마감_날짜': ['2024-06-27', '2024-07-25', '2024-08-26', '2024-09-26', '2024-11-25', '2024-12-25']\n",
    "})\n",
    "\n",
    "generation_schedule['오픈_날짜'] = pd.to_datetime(generation_schedule['오픈_날짜'])\n",
    "generation_schedule['마감_날짜'] = pd.to_datetime(generation_schedule['마감_날짜'])\n",
    "generation_schedule['트랙_진행_일수'] = (generation_schedule['마감_날짜'] - generation_schedule['오픈_날짜']).dt.days\n",
    "\n",
    "track_users = track_users.merge(generation_schedule, on='기수', how='left')\n",
    "\n",
    "# 1. 날짜 형식 변환\n",
    "track_users['created_at'] = pd.to_datetime(track_users['created_at'], errors='coerce')\n",
    "track_users['updated_at'] = pd.to_datetime(track_users['updated_at'], errors='coerce')\n",
    "track_users['트랙_학습_기간_일수'] = (track_users['updated_at'] - track_users['created_at']).dt.days.clip(lower=0)\n",
    "track_users = track_users[track_users['updated_at'].notna()]\n",
    "\n",
    "track_users = track_users[~track_users['user_id'].isin(dacon_user_id['user_id'].values)]\n",
    "\n",
    "# 저장\n",
    "track_users.to_csv('../data/processed/track_users.csv', index=False)"
   ]
  },
  {
   "cell_type": "markdown",
   "metadata": {},
   "source": [
    "# 6.프로젝트 및 로그(project_progress_details) 데이터 전처리"
   ]
  },
  {
   "cell_type": "code",
   "execution_count": 8,
   "metadata": {},
   "outputs": [
    {
     "data": {
      "text/plain": [
       "(123096, 8)"
      ]
     },
     "execution_count": 8,
     "metadata": {},
     "output_type": "execute_result"
    }
   ],
   "source": [
    "project_progress_query = \"SELECT * FROM project_progress_details\"\n",
    "project_progress_details = fetch_data(project_progress_query, engine)\n",
    "\n",
    "project_progress_details = project_progress_details[~project_progress_details['user_id'].isin(dacon_user_id['user_id'].values)]\n",
    "project_progress_details = project_progress_details.drop(['id'], axis=1)\n",
    "project_progress_details.to_csv('../data/processed/project_progress_details.csv', index=False)\n",
    "project_progress_details.shape"
   ]
  },
  {
   "cell_type": "markdown",
   "metadata": {},
   "source": [
    "# 7.track_user_step_check_logs"
   ]
  },
  {
   "cell_type": "code",
   "execution_count": 9,
   "metadata": {},
   "outputs": [],
   "source": [
    "import pandas as pd\n",
    "import urllib.parse\n",
    "from sqlalchemy import create_engine, text\n",
    "\n",
    "# MySQL 연결 설정\n",
    "CONFIG = {\n",
    "    'host': \"dacon-rds-new-replica.cwg136z3ejlu.ap-northeast-2.rds.amazonaws.com\",\n",
    "    'username': \"data\",\n",
    "    'password': \"aortladkdltm@2024!\",  # 특수문자(!) 처리 필요\n",
    "    'database': \"DaconEduLog\",\n",
    "    'port': 3306  # MySQL 기본 포트 추가\n",
    "}\n",
    "\n",
    "# 비밀번호 URL 인코딩\n",
    "encoded_password = urllib.parse.quote_plus(CONFIG[\"password\"])\n",
    "\n",
    "# SQLAlchemy 엔진 생성\n",
    "engine = create_engine(\n",
    "    f\"mysql+pymysql://{CONFIG['username']}:{encoded_password}@{CONFIG['host']}:{CONFIG['port']}/{CONFIG['database']}\"\n",
    ")\n",
    "\n",
    "\n",
    "project_progress_query = \"SELECT * FROM track_user_step_check_logs\"\n",
    "track_user_step_check_logs = fetch_data(project_progress_query, engine)\n",
    "\n",
    "\n",
    "track_user_step_check_logs = track_user_step_check_logs[~track_user_step_check_logs['user_id'].isin(dacon_user_id['user_id'].values)]\n",
    "track_user_step_check_logs = track_user_step_check_logs.drop(['id', 'uuid'], axis = 1)\n",
    "track_user_step_check_logs\n",
    "\n",
    "track_user_step_check_logs.to_csv('../data/processed/track_user_step_check_logs.csv', index=False)\n"
   ]
  }
 ],
 "metadata": {
  "kernelspec": {
   "display_name": "song38",
   "language": "python",
   "name": "python3"
  },
  "language_info": {
   "codemirror_mode": {
    "name": "ipython",
    "version": 3
   },
   "file_extension": ".py",
   "mimetype": "text/x-python",
   "name": "python",
   "nbconvert_exporter": "python",
   "pygments_lexer": "ipython3",
   "version": "3.8.20"
  }
 },
 "nbformat": 4,
 "nbformat_minor": 2
}
